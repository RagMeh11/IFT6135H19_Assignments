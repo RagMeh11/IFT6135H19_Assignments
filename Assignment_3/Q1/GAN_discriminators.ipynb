{
 "cells": [
  {
   "cell_type": "code",
   "execution_count": 1,
   "metadata": {
    "colab": {},
    "colab_type": "code",
    "id": "jeJR5MANdymy"
   },
   "outputs": [],
   "source": [
    "import numpy as np\n",
    "import random\n",
    "\n",
    "def distribution0(batch_size=512):\n",
    "    while True:\n",
    "        yield(np.random.uniform(0, 1, (batch_size, 1)))\n",
    "\n",
    "\n",
    "def distribution1(x, batch_size=512):\n",
    "    # Distribution defined as (x, U(0,1)). Can be used for question 3\n",
    "    while True:\n",
    "        yield(np.array([(x, random.uniform(0, 1)) for _ in range(batch_size)]))\n",
    "\n",
    "\n",
    "def distribution2(batch_size=512):\n",
    "    # High dimension uniform distribution\n",
    "    while True:\n",
    "        yield(np.random.uniform(0, 1, (batch_size, 2)))\n",
    "\n",
    "\n",
    "def distribution3(batch_size=512):\n",
    "    # 1D gaussian distribution\n",
    "    while True:\n",
    "        yield(np.random.normal(0, 1, (batch_size, 1)))\n",
    "\n",
    "\n",
    "e = lambda x: np.exp(x)\n",
    "tanh = lambda x: (e(x) - e(-x)) / (e(x)+e(-x))\n",
    "def distribution4(batch_size=1):\n",
    "    # arbitrary sampler\n",
    "    f = lambda x: tanh(x*2+1) + x*0.75\n",
    "    while True:\n",
    "        yield(f(np.random.normal(0, 1, (batch_size, 1))))"
   ]
  },
  {
   "cell_type": "code",
   "execution_count": 2,
   "metadata": {
    "colab": {},
    "colab_type": "code",
    "id": "xHTisA2n-5oM"
   },
   "outputs": [],
   "source": [
    "import torch\n",
    "import torchvision\n",
    "import torchvision.transforms as transforms\n",
    "import torch.nn as nn\n",
    "import torch.nn.functional as F\n",
    "import torch.optim as optim"
   ]
  },
  {
   "cell_type": "markdown",
   "metadata": {
    "colab_type": "text",
    "id": "BISAjhcjQYko"
   },
   "source": [
    "## Q1.1, 1.3: Implement JSD and Plot JSD for $\\phi \\in [-1,1]$"
   ]
  },
  {
   "cell_type": "code",
   "execution_count": 3,
   "metadata": {
    "colab": {},
    "colab_type": "code",
    "id": "6pW2s94hBh5j"
   },
   "outputs": [],
   "source": [
    "def JSD(Dx, Dy):\n",
    "    \"\"\"\n",
    "    Args:\n",
    "      param1: Dx, derivative wrt x \\sim p\n",
    "      param2: Dy, derivative wrt y \\sim q\n",
    "    Returns:\n",
    "      Jensen-Shannon Divergence\n",
    "    \"\"\"\n",
    "    jsd = torch.log(torch.tensor(2.)) + (1/2)*torch.mean(torch.log(Dx)) + (1/2)*torch.mean(torch.log(1-Dy))\n",
    "    return -jsd\n",
    "\n",
    "def init_weights(m):\n",
    "    if type(m) == nn.Linear:\n",
    "        torch.nn.init.kaiming_normal_(m.weight)\n",
    "        m.bias.data.fill_(0.01)\n",
    "\n",
    "class Net(nn.Module):\n",
    "    def __init__(self):\n",
    "        super(Net, self).__init__()\n",
    "        self.hidden_layer = nn.Linear(2, 32)\n",
    "        self.output_layer = nn.Linear(32, 1)\n",
    "        \n",
    "    def forward(self, x):\n",
    "        x = F.relu(self.hidden_layer(x))\n",
    "        x = F.sigmoid(self.output_layer(x))\n",
    "        return x"
   ]
  },
  {
   "cell_type": "code",
   "execution_count": 4,
   "metadata": {
    "colab": {
     "base_uri": "https://localhost:8080/",
     "height": 416
    },
    "colab_type": "code",
    "id": "MZ_sl5phRUir",
    "outputId": "a0dfaf84-f4c8-4603-df11-3dd87d0df3c1"
   },
   "outputs": [
    {
     "name": "stderr",
     "output_type": "stream",
     "text": [
      "/home/zahra/anaconda3/lib/python3.6/site-packages/torch/nn/functional.py:1006: UserWarning: nn.functional.sigmoid is deprecated. Use torch.sigmoid instead.\n",
      "  warnings.warn(\"nn.functional.sigmoid is deprecated. Use torch.sigmoid instead.\")\n"
     ]
    },
    {
     "name": "stdout",
     "output_type": "stream",
     "text": [
      "loss: -0.693006694316864\n",
      "loss: -0.6929775476455688\n",
      "loss: -0.6930411458015442\n",
      "loss: -0.6930686235427856\n",
      "loss: -0.693068265914917\n",
      "loss: -0.69302898645401\n",
      "loss: -0.6929488778114319\n",
      "loss: -0.6927738189697266\n",
      "loss: -0.6926073431968689\n",
      "loss: -0.6915462613105774\n",
      "loss: -5.492568016052246e-05\n",
      "loss: -0.691997766494751\n",
      "loss: -0.6926008462905884\n",
      "loss: -0.6929402947425842\n",
      "loss: -0.6930209398269653\n",
      "loss: -0.6930506229400635\n",
      "loss: -0.69305819272995\n",
      "loss: -0.6930892467498779\n",
      "loss: -0.6931094527244568\n",
      "loss: -0.69297856092453\n",
      "loss: -0.6930607557296753\n"
     ]
    }
   ],
   "source": [
    "loss_JSD = []\n",
    "for j in range(-10, 11):\n",
    "    net = Net()\n",
    "    net.apply(init_weights)\n",
    "    optimizer = optim.Adam(net.parameters(), lr=0.001)\n",
    "    for i in range(5000):\n",
    "        x = torch.tensor(next(iter(distribution1(0, batch_size=512))), dtype=torch.float32)\n",
    "        y = torch.tensor(next(iter(distribution1(j/10, batch_size=512))), dtype=torch.float32)\n",
    "\n",
    "        Dx = net(x)\n",
    "        Dy = net(y)\n",
    "\n",
    "        loss = JSD(Dx, Dy)\n",
    "\n",
    "        loss.backward()\n",
    "        optimizer.step()\n",
    "        optimizer.zero_grad()\n",
    "    loss_JSD.append(-loss.item())\n",
    "    print('loss:', loss.item())"
   ]
  },
  {
   "cell_type": "code",
   "execution_count": 9,
   "metadata": {
    "colab": {
     "base_uri": "https://localhost:8080/",
     "height": 269
    },
    "colab_type": "code",
    "id": "ClUw6_ELuhsA",
    "outputId": "059cb852-4c72-4bb0-9fdb-36914c7c427a"
   },
   "outputs": [
    {
     "data": {
      "image/png": "[encoded data removed]",
      "text/plain": [
       "<Figure size 432x288 with 1 Axes>"
      ]
     },
     "metadata": {},
     "output_type": "display_data"
    }
   ],
   "source": [
    "import matplotlib.pyplot as plt\n",
    "plt.plot([j/10 for j in range(-10,11)],loss_JSD, 'ro')\n",
    "plt.axis([-1.1, 1.1, -0.1, 1])\n",
    "plt.xlabel('$\\phi$ $\\in$ [-1,1]')\n",
    "plt.ylabel('JSD')\n",
    "plt.show()"
   ]
  },
  {
   "cell_type": "markdown",
   "metadata": {
    "colab_type": "text",
    "id": "BmFNTkccQdkC"
   },
   "source": [
    "## Q1.2, 1.3:  Implement WD and Plot WD for $\\phi \\in [-1,1]$"
   ]
  },
  {
   "cell_type": "code",
   "execution_count": 6,
   "metadata": {
    "colab": {},
    "colab_type": "code",
    "id": "soviWtaSQNGC"
   },
   "outputs": [],
   "source": [
    "import torch.nn as nn\n",
    "import torch.nn.functional as F\n",
    "\n",
    "def WD(Dx, Dy, dz, lambda_=10):\n",
    "    \"\"\"\n",
    "    Args:\n",
    "      param1: Dx, derivative wrt x \\sim p\n",
    "      param2: Dy, derivative wrt y \\sim q\n",
    "      param3: lambda, coef for GP\n",
    "    Returns:\n",
    "      Wasserstein Distance\n",
    "    \"\"\"\n",
    "    wd = torch.mean(Dx) - torch.mean(Dy) - lambda_*torch.mean((torch.norm(dz, dim=1)-1)**2)\n",
    "    return -wd\n",
    "\n",
    "def init_weights(m):\n",
    "    if type(m) == nn.Linear:\n",
    "        torch.nn.init.kaiming_normal_(m.weight)\n",
    "        m.bias.data.fill_(0.01)\n",
    "\n",
    "class Net(nn.Module):\n",
    "    def __init__(self):\n",
    "        super(Net, self).__init__()\n",
    "        self.hidden_layer = nn.Linear(2, 32)\n",
    "        self.output_layer = nn.Linear(32, 1)\n",
    "        \n",
    "    def forward(self, x):\n",
    "        x = F.relu(self.hidden_layer(x))\n",
    "        x = self.output_layer(x)\n",
    "        return x"
   ]
  },
  {
   "cell_type": "code",
   "execution_count": 7,
   "metadata": {
    "colab": {
     "base_uri": "https://localhost:8080/",
     "height": 381
    },
    "colab_type": "code",
    "id": "41tohhCHxTV1",
    "outputId": "0f74f1bf-5793-4200-b98e-4c41a9a176e5"
   },
   "outputs": [
    {
     "name": "stdout",
     "output_type": "stream",
     "text": [
      "loss: -1.0254085063934326\n",
      "loss: -0.9205376505851746\n",
      "loss: -0.8160801529884338\n",
      "loss: -0.7122305035591125\n",
      "loss: -0.6087612509727478\n",
      "loss: -0.5065206289291382\n",
      "loss: -0.4038587510585785\n",
      "loss: -0.3021100163459778\n",
      "loss: -0.20112594962120056\n",
      "loss: -0.10039469599723816\n",
      "loss: 0.002093208022415638\n",
      "loss: -0.10081833600997925\n",
      "loss: -0.20131038129329681\n",
      "loss: -0.30236783623695374\n",
      "loss: -0.40384307503700256\n",
      "loss: -0.5061437487602234\n",
      "loss: -0.609080970287323\n",
      "loss: -0.7122768759727478\n",
      "loss: -0.8159677982330322\n",
      "loss: -0.9200686812400818\n",
      "loss: -1.0249017477035522\n"
     ]
    }
   ],
   "source": [
    "loss_WD = []\n",
    "for j in range(-10, 11):\n",
    "    net = Net()\n",
    "    net.apply(init_weights)\n",
    "    optimizer = optim.Adam(net.parameters(), lr=0.001)\n",
    "    for i in range(5000):\n",
    "        x = torch.tensor(next(iter(distribution1(0, batch_size=512))), dtype=torch.float32)\n",
    "        y = torch.tensor(next(iter(distribution1(j/10, batch_size=512))), dtype=torch.float32)\n",
    "        a = torch.tensor(next(iter(distribution0(batch_size=512))), dtype=torch.float32)\n",
    "        \n",
    "        z = a*x + (1-a)*y\n",
    "        z.retain_grad()\n",
    "        z.requires_grad = True\n",
    "        \n",
    "        Dz = net(z)\n",
    "        Dx = net(x)\n",
    "        Dy = net(y)\n",
    "        \n",
    "        dz = torch.autograd.grad(Dz, z, grad_outputs=torch.ones_like(Dz), create_graph=True, retain_graph=True)[0]\n",
    "        loss = WD(Dx, Dy, dz)\n",
    "\n",
    "        loss.backward()\n",
    "        optimizer.step()\n",
    "        optimizer.zero_grad()\n",
    "    loss_WD.append(-loss.item())\n",
    "    print('loss:', loss.item())"
   ]
  },
  {
   "cell_type": "code",
   "execution_count": 8,
   "metadata": {
    "colab": {
     "base_uri": "https://localhost:8080/",
     "height": 269
    },
    "colab_type": "code",
    "id": "DC2EOMjuqRTl",
    "outputId": "45bd8792-92cb-4c7b-e4d0-f2ba1e33c819"
   },
   "outputs": [
    {
     "data": {
      "image/png": "[encoded data removed]",
      "text/plain": [
       "<Figure size 432x288 with 1 Axes>"
      ]
     },
     "metadata": {},
     "output_type": "display_data"
    }
   ],
   "source": [
    "plt.plot([j/10 for j in range(-10,11)], loss_WD, 'ro')\n",
    "plt.axis([-1.1, 1.1, -.1, 1])\n",
    "plt.xlabel('$\\phi$ $\\in$ [-1,1]')\n",
    "plt.ylabel('WD')\n",
    "plt.show()"
   ]
  },
  {
   "cell_type": "markdown",
   "metadata": {
    "colab_type": "text",
    "id": "HmPQOSkp13KU"
   },
   "source": [
    "## Q1.4: Plot discriminator output and the estimated density"
   ]
  },
  {
   "cell_type": "code",
   "execution_count": 10,
   "metadata": {
    "colab": {
     "base_uri": "https://localhost:8080/",
     "height": 587
    },
    "colab_type": "code",
    "id": "f0BzOe8311wI",
    "outputId": "32ddfe30-7a7a-46fc-dd25-fdc9d8816ab5"
   },
   "outputs": [
    {
     "data": {
      "text/plain": [
       "[<matplotlib.lines.Line2D at 0x7fae8a1ea6a0>]"
      ]
     },
     "execution_count": 10,
     "metadata": {},
     "output_type": "execute_result"
    },
    {
     "data": {
      "image/png": "[encoded data removed]",
      "text/plain": [
       "<Figure size 432x288 with 1 Axes>"
      ]
     },
     "metadata": {},
     "output_type": "display_data"
    }
   ],
   "source": [
    "\n",
    "from __future__ import print_function\n",
    "import numpy as np\n",
    "import torch \n",
    "import matplotlib.pyplot as plt\n",
    "\n",
    "# plot p0 and p1\n",
    "plt.figure()\n",
    "\n",
    "# empirical\n",
    "xx = torch.randn(10000)\n",
    "f = lambda x: torch.tanh(x*2+1) + x*0.75\n",
    "d = lambda x: (1-torch.tanh(x*2+1)**2)*2+0.75\n",
    "plt.hist(f(xx), 100, alpha=0.5, density=1)\n",
    "plt.hist(xx, 100, alpha=0.5, density=1)\n",
    "plt.xlim(-5,5)\n",
    "# exact\n",
    "xx = np.linspace(-5,5,1000)\n",
    "N = lambda x: np.exp(-x**2/2.)/((2*np.pi)**0.5)\n",
    "plt.plot(f(torch.from_numpy(xx)).numpy(), d(torch.from_numpy(xx)).numpy()**(-1)*N(xx))\n",
    "plt.plot(xx, N(xx))\n"
   ]
  },
  {
   "cell_type": "code",
   "execution_count": 11,
   "metadata": {},
   "outputs": [
    {
     "name": "stderr",
     "output_type": "stream",
     "text": [
      "/home/zahra/anaconda3/lib/python3.6/site-packages/torch/nn/functional.py:1006: UserWarning: nn.functional.sigmoid is deprecated. Use torch.sigmoid instead.\n",
      "  warnings.warn(\"nn.functional.sigmoid is deprecated. Use torch.sigmoid instead.\")\n"
     ]
    }
   ],
   "source": [
    "\n",
    "############### import the sampler ``samplers.distribution4'' \n",
    "############### train a discriminator on distribution4 and standard gaussian\n",
    "############### estimate the density of distribution4\n",
    "\n",
    "#######--- INSERT YOUR CODE BELOW ---#######\n",
    "\n",
    "def loss_distance(Dx, Dy):\n",
    "    \"\"\"\n",
    "    Args:\n",
    "      param1: Dx, derivative wrt x \\sim p\n",
    "      param2: Dy, derivative wrt y \\sim q\n",
    "    Returns:\n",
    "      -(Ep[log(Dx) + Eq[1 - log(Dy)])\n",
    "    \"\"\"\n",
    "    return -(torch.mean(torch.log(Dx)) + torch.mean(torch.log(1-Dy)))\n",
    "\n",
    "def init_weights(m):\n",
    "    if type(m) == nn.Linear:\n",
    "        torch.nn.init.kaiming_normal_(m.weight)\n",
    "        m.bias.data.fill_(0.01)\n",
    "\n",
    "class Net(nn.Module):\n",
    "    def __init__(self):\n",
    "        super(Net, self).__init__()\n",
    "        self.hidden_layer = nn.Linear(1, 32)\n",
    "        self.output_layer = nn.Linear(32, 1)\n",
    "        \n",
    "    def forward(self, x):\n",
    "        x = F.relu(self.hidden_layer(x))\n",
    "        x = F.sigmoid(self.output_layer(x))\n",
    "        return x\n",
    "\n",
    "net = Net()\n",
    "net.apply(init_weights)\n",
    "optimizer = optim.Adam(net.parameters(), lr=0.001)\n",
    "for i in range(5000):\n",
    "    x = torch.tensor(next(iter(distribution4(batch_size=512))), dtype=torch.float32)\n",
    "    y = torch.tensor(next(iter(distribution3(batch_size=512))), dtype=torch.float32)\n",
    "\n",
    "    Dx = net(x)\n",
    "    Dy = net(y)\n",
    "\n",
    "    loss = loss_distance(Dx, Dy)\n",
    "\n",
    "    loss.backward()\n",
    "    optimizer.step()\n",
    "    optimizer.zero_grad()\n",
    "    \n",
    "####################"
   ]
  },
  {
   "cell_type": "code",
   "execution_count": 13,
   "metadata": {},
   "outputs": [
    {
     "name": "stderr",
     "output_type": "stream",
     "text": [
      "/home/zahra/anaconda3/lib/python3.6/site-packages/torch/nn/functional.py:1006: UserWarning: nn.functional.sigmoid is deprecated. Use torch.sigmoid instead.\n",
      "  warnings.warn(\"nn.functional.sigmoid is deprecated. Use torch.sigmoid instead.\")\n"
     ]
    },
    {
     "data": {
      "text/plain": [
       "Text(0.5,1,'Estimated vs True')"
      ]
     },
     "execution_count": 13,
     "metadata": {},
     "output_type": "execute_result"
    },
    {
     "data": {
      "image/png": "[encoded data removed]",
      "text/plain": [
       "<Figure size 576x288 with 2 Axes>"
      ]
     },
     "metadata": {},
     "output_type": "display_data"
    }
   ],
   "source": [
    "############### plotting things\n",
    "############### (1) plot the output of your trained discriminator \n",
    "############### (2) plot the estimated density contrasted with the true density\n",
    "\n",
    "# output of the trained discriminator\n",
    "D_opt = net(torch.Tensor(xx.reshape(-1,1))) \n",
    "D_opt = np.array([d.data.item() for d in D_opt])\n",
    "\n",
    "# estimate f1 density\n",
    "f0 = N(xx)\n",
    "f1 = (D_opt * f0) / (1 - D_opt)\n",
    "\n",
    "# plotting\n",
    "r = D_opt # evaluate xx using your discriminator; replace xx with the output\n",
    "plt.figure(figsize=(8,4))\n",
    "plt.subplot(1,2,1)\n",
    "plt.plot(xx,r)\n",
    "plt.title(r'$D(x)$')\n",
    "\n",
    "estimate = f1 # estimate the density of distribution4 (on xx) using the discriminator; \n",
    "                                # replace \"np.ones_like(xx)*0.\" with your estimate\n",
    "plt.subplot(1,2,2)\n",
    "plt.plot(xx,estimate)\n",
    "plt.plot(f(torch.from_numpy(xx)).numpy(), d(torch.from_numpy(xx)).numpy()**(-1)*N(xx))\n",
    "plt.legend(['Estimated','True'])\n",
    "plt.title('Estimated vs True')\n"
   ]
  },
  {
   "cell_type": "code",
   "execution_count": null,
   "metadata": {},
   "outputs": [],
   "source": []
  }
 ],
 "metadata": {
  "accelerator": "GPU",
  "colab": {
   "collapsed_sections": [],
   "name": "GAN.ipynb",
   "provenance": [],
   "version": "0.3.2"
  },
  "kernelspec": {
   "display_name": "Python 3",
   "language": "python",
   "name": "python3"
  },
  "language_info": {
   "codemirror_mode": {
    "name": "ipython",
    "version": 3
   },
   "file_extension": ".py",
   "mimetype": "text/x-python",
   "name": "python",
   "nbconvert_exporter": "python",
   "pygments_lexer": "ipython3",
   "version": "3.6.5"
  }
 },
 "nbformat": 4,
 "nbformat_minor": 1
}
